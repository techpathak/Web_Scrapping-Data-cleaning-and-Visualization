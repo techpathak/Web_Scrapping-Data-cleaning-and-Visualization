{
 "cells": [
  {
   "cell_type": "markdown",
   "metadata": {},
   "source": [
    "## WebScrapping"
   ]
  },
  {
   "cell_type": "code",
   "execution_count": 244,
   "metadata": {},
   "outputs": [],
   "source": [
    "# importing modules \n",
    "import requests \n",
    "from bs4 import BeautifulSoup \n",
    "  \n",
    "# URL for scrapping data \n",
    "url = 'https://www.worldometers.info/coronavirus/countries-where-coronavirus-has-spread/'\n",
    "  \n",
    "# get URL html \n",
    "page = requests.get(url) \n",
    "soup = BeautifulSoup(page.text, 'html.parser') \n",
    "  \n",
    "data = [] \n",
    "  \n",
    "# soup.find_all('td') will scrape every element in the url's table \n",
    "data_iterator = iter(soup.find_all('td'))  \n",
    "# data_iterator is the iterator of the table \n",
    "  \n",
    "# This loop will keep repeating till there is data available in the iterator \n",
    "while True: \n",
    "    try: \n",
    "        country = next(data_iterator).text \n",
    "        confirmed = next(data_iterator).text \n",
    "        deaths = next(data_iterator).text \n",
    "        continent = next(data_iterator).text \n",
    "  \n",
    "        # For 'confirmed' and 'deaths', make sure to remove the commas and convert to int \n",
    "        data.append(( \n",
    "            country, \n",
    "            (confirmed.replace(', ', '')), \n",
    "            (deaths.replace(',', '')), \n",
    "            continent\n",
    "        )) \n",
    "    # StopIteration error is raised when there are no more elements left to iterate through \n",
    "    except StopIteration: \n",
    "        break"
   ]
  },
  {
   "cell_type": "code",
   "execution_count": 245,
   "metadata": {},
   "outputs": [],
   "source": [
    "# Sort the data by the number of confirmed cases \n",
    "data.sort(key = lambda row: row[1], reverse = True) \n"
   ]
  },
  {
   "cell_type": "markdown",
   "metadata": {},
   "source": [
    "## Data Cleaning "
   ]
  },
  {
   "cell_type": "code",
   "execution_count": 246,
   "metadata": {},
   "outputs": [],
   "source": [
    "import pandas as pd"
   ]
  },
  {
   "cell_type": "code",
   "execution_count": 247,
   "metadata": {},
   "outputs": [
    {
     "data": {
      "text/html": [
       "<div>\n",
       "<style scoped>\n",
       "    .dataframe tbody tr th:only-of-type {\n",
       "        vertical-align: middle;\n",
       "    }\n",
       "\n",
       "    .dataframe tbody tr th {\n",
       "        vertical-align: top;\n",
       "    }\n",
       "\n",
       "    .dataframe thead th {\n",
       "        text-align: right;\n",
       "    }\n",
       "</style>\n",
       "<table border=\"1\" class=\"dataframe\">\n",
       "  <thead>\n",
       "    <tr style=\"text-align: right;\">\n",
       "      <th></th>\n",
       "      <th>country</th>\n",
       "      <th>Number of cases</th>\n",
       "      <th>Deaths</th>\n",
       "      <th>Continment</th>\n",
       "    </tr>\n",
       "  </thead>\n",
       "  <tbody>\n",
       "    <tr>\n",
       "      <td>0</td>\n",
       "      <td>Cyprus</td>\n",
       "      <td>988</td>\n",
       "      <td>19.0</td>\n",
       "      <td>Asia</td>\n",
       "    </tr>\n",
       "    <tr>\n",
       "      <td>1</td>\n",
       "      <td>Barbados</td>\n",
       "      <td>97</td>\n",
       "      <td>7.0</td>\n",
       "      <td>North America</td>\n",
       "    </tr>\n",
       "    <tr>\n",
       "      <td>2</td>\n",
       "      <td>Yemen</td>\n",
       "      <td>967</td>\n",
       "      <td>257.0</td>\n",
       "      <td>Asia</td>\n",
       "    </tr>\n",
       "    <tr>\n",
       "      <td>3</td>\n",
       "      <td>Cabo Verde</td>\n",
       "      <td>944</td>\n",
       "      <td>8.0</td>\n",
       "      <td>Africa</td>\n",
       "    </tr>\n",
       "    <tr>\n",
       "      <td>4</td>\n",
       "      <td>Georgia</td>\n",
       "      <td>911</td>\n",
       "      <td>14.0</td>\n",
       "      <td>Asia</td>\n",
       "    </tr>\n",
       "  </tbody>\n",
       "</table>\n",
       "</div>"
      ],
      "text/plain": [
       "      country Number of cases  Deaths     Continment\n",
       "0      Cyprus             988    19.0           Asia\n",
       "1    Barbados              97     7.0  North America\n",
       "2       Yemen             967   257.0           Asia\n",
       "3  Cabo Verde             944     8.0         Africa\n",
       "4     Georgia             911    14.0           Asia"
      ]
     },
     "execution_count": 247,
     "metadata": {},
     "output_type": "execute_result"
    }
   ],
   "source": [
    "dff=pd.DataFrame(data,columns=['country','Number of cases','Deaths','Continment'],dtype=float)\n",
    "dff.head()"
   ]
  },
  {
   "cell_type": "code",
   "execution_count": 248,
   "metadata": {},
   "outputs": [],
   "source": [
    "dff['Number of cases'] = [x.replace(',', '') for x in dff['Number of cases']]\n"
   ]
  },
  {
   "cell_type": "code",
   "execution_count": 249,
   "metadata": {},
   "outputs": [],
   "source": [
    "dff['Number of cases'] = pd.to_numeric(dff['Number of cases'])"
   ]
  },
  {
   "cell_type": "code",
   "execution_count": 250,
   "metadata": {},
   "outputs": [
    {
     "data": {
      "text/html": [
       "<div>\n",
       "<style scoped>\n",
       "    .dataframe tbody tr th:only-of-type {\n",
       "        vertical-align: middle;\n",
       "    }\n",
       "\n",
       "    .dataframe tbody tr th {\n",
       "        vertical-align: top;\n",
       "    }\n",
       "\n",
       "    .dataframe thead th {\n",
       "        text-align: right;\n",
       "    }\n",
       "</style>\n",
       "<table border=\"1\" class=\"dataframe\">\n",
       "  <thead>\n",
       "    <tr style=\"text-align: right;\">\n",
       "      <th></th>\n",
       "      <th>country</th>\n",
       "      <th>Number of cases</th>\n",
       "      <th>Deaths</th>\n",
       "      <th>Continment</th>\n",
       "    </tr>\n",
       "  </thead>\n",
       "  <tbody>\n",
       "    <tr>\n",
       "      <td>0</td>\n",
       "      <td>Cyprus</td>\n",
       "      <td>988</td>\n",
       "      <td>19.0</td>\n",
       "      <td>Asia</td>\n",
       "    </tr>\n",
       "    <tr>\n",
       "      <td>1</td>\n",
       "      <td>Barbados</td>\n",
       "      <td>97</td>\n",
       "      <td>7.0</td>\n",
       "      <td>North America</td>\n",
       "    </tr>\n",
       "    <tr>\n",
       "      <td>2</td>\n",
       "      <td>Yemen</td>\n",
       "      <td>967</td>\n",
       "      <td>257.0</td>\n",
       "      <td>Asia</td>\n",
       "    </tr>\n",
       "    <tr>\n",
       "      <td>3</td>\n",
       "      <td>Cabo Verde</td>\n",
       "      <td>944</td>\n",
       "      <td>8.0</td>\n",
       "      <td>Africa</td>\n",
       "    </tr>\n",
       "    <tr>\n",
       "      <td>4</td>\n",
       "      <td>Georgia</td>\n",
       "      <td>911</td>\n",
       "      <td>14.0</td>\n",
       "      <td>Asia</td>\n",
       "    </tr>\n",
       "    <tr>\n",
       "      <td>...</td>\n",
       "      <td>...</td>\n",
       "      <td>...</td>\n",
       "      <td>...</td>\n",
       "      <td>...</td>\n",
       "    </tr>\n",
       "    <tr>\n",
       "      <td>209</td>\n",
       "      <td>Congo</td>\n",
       "      <td>1087</td>\n",
       "      <td>37.0</td>\n",
       "      <td>Africa</td>\n",
       "    </tr>\n",
       "    <tr>\n",
       "      <td>210</td>\n",
       "      <td>State of Palestine</td>\n",
       "      <td>1078</td>\n",
       "      <td>3.0</td>\n",
       "      <td>Asia</td>\n",
       "    </tr>\n",
       "    <tr>\n",
       "      <td>211</td>\n",
       "      <td>Niger</td>\n",
       "      <td>1046</td>\n",
       "      <td>67.0</td>\n",
       "      <td>Africa</td>\n",
       "    </tr>\n",
       "    <tr>\n",
       "      <td>212</td>\n",
       "      <td>Jordan</td>\n",
       "      <td>1042</td>\n",
       "      <td>9.0</td>\n",
       "      <td>Asia</td>\n",
       "    </tr>\n",
       "    <tr>\n",
       "      <td>213</td>\n",
       "      <td>Saint Pierre &amp; Miquelon</td>\n",
       "      <td>1</td>\n",
       "      <td>0.0</td>\n",
       "      <td>North America</td>\n",
       "    </tr>\n",
       "  </tbody>\n",
       "</table>\n",
       "<p>214 rows × 4 columns</p>\n",
       "</div>"
      ],
      "text/plain": [
       "                     country  Number of cases  Deaths     Continment\n",
       "0                     Cyprus              988    19.0           Asia\n",
       "1                   Barbados               97     7.0  North America\n",
       "2                      Yemen              967   257.0           Asia\n",
       "3                 Cabo Verde              944     8.0         Africa\n",
       "4                    Georgia              911    14.0           Asia\n",
       "..                       ...              ...     ...            ...\n",
       "209                    Congo             1087    37.0         Africa\n",
       "210       State of Palestine             1078     3.0           Asia\n",
       "211                    Niger             1046    67.0         Africa\n",
       "212                   Jordan             1042     9.0           Asia\n",
       "213  Saint Pierre & Miquelon                1     0.0  North America\n",
       "\n",
       "[214 rows x 4 columns]"
      ]
     },
     "execution_count": 250,
     "metadata": {},
     "output_type": "execute_result"
    }
   ],
   "source": [
    "dff"
   ]
  },
  {
   "cell_type": "code",
   "execution_count": 251,
   "metadata": {},
   "outputs": [
    {
     "name": "stdout",
     "output_type": "stream",
     "text": [
      "<class 'pandas.core.frame.DataFrame'>\n",
      "RangeIndex: 214 entries, 0 to 213\n",
      "Data columns (total 4 columns):\n",
      "country            214 non-null object\n",
      "Number of cases    214 non-null int64\n",
      "Deaths             214 non-null float64\n",
      "Continment         214 non-null object\n",
      "dtypes: float64(1), int64(1), object(2)\n",
      "memory usage: 6.8+ KB\n"
     ]
    }
   ],
   "source": [
    "dff.info()"
   ]
  },
  {
   "cell_type": "code",
   "execution_count": 252,
   "metadata": {},
   "outputs": [],
   "source": [
    "dfff=dff.sort_values(by='Number of cases',ascending=False)\n"
   ]
  },
  {
   "cell_type": "code",
   "execution_count": 253,
   "metadata": {},
   "outputs": [
    {
     "data": {
      "text/html": [
       "<div>\n",
       "<style scoped>\n",
       "    .dataframe tbody tr th:only-of-type {\n",
       "        vertical-align: middle;\n",
       "    }\n",
       "\n",
       "    .dataframe tbody tr th {\n",
       "        vertical-align: top;\n",
       "    }\n",
       "\n",
       "    .dataframe thead th {\n",
       "        text-align: right;\n",
       "    }\n",
       "</style>\n",
       "<table border=\"1\" class=\"dataframe\">\n",
       "  <thead>\n",
       "    <tr style=\"text-align: right;\">\n",
       "      <th></th>\n",
       "      <th>country</th>\n",
       "      <th>Number of cases</th>\n",
       "      <th>Deaths</th>\n",
       "      <th>Continment</th>\n",
       "      <th>Death_rate</th>\n",
       "    </tr>\n",
       "  </thead>\n",
       "  <tbody>\n",
       "    <tr>\n",
       "      <td>130</td>\n",
       "      <td>United States</td>\n",
       "      <td>2388225</td>\n",
       "      <td>122611.0</td>\n",
       "      <td>North America</td>\n",
       "      <td>5.133980</td>\n",
       "    </tr>\n",
       "    <tr>\n",
       "      <td>207</td>\n",
       "      <td>Brazil</td>\n",
       "      <td>1111348</td>\n",
       "      <td>51407.0</td>\n",
       "      <td>South America</td>\n",
       "      <td>4.625644</td>\n",
       "    </tr>\n",
       "    <tr>\n",
       "      <td>44</td>\n",
       "      <td>Russia</td>\n",
       "      <td>599705</td>\n",
       "      <td>8359.0</td>\n",
       "      <td>Europe</td>\n",
       "      <td>1.393852</td>\n",
       "    </tr>\n",
       "    <tr>\n",
       "      <td>63</td>\n",
       "      <td>India</td>\n",
       "      <td>441924</td>\n",
       "      <td>14028.0</td>\n",
       "      <td>Asia</td>\n",
       "      <td>3.174301</td>\n",
       "    </tr>\n",
       "    <tr>\n",
       "      <td>90</td>\n",
       "      <td>United Kingdom</td>\n",
       "      <td>305289</td>\n",
       "      <td>42647.0</td>\n",
       "      <td>Europe</td>\n",
       "      <td>13.969386</td>\n",
       "    </tr>\n",
       "  </tbody>\n",
       "</table>\n",
       "</div>"
      ],
      "text/plain": [
       "            country  Number of cases    Deaths     Continment  Death_rate\n",
       "130   United States          2388225  122611.0  North America    5.133980\n",
       "207          Brazil          1111348   51407.0  South America    4.625644\n",
       "44           Russia           599705    8359.0         Europe    1.393852\n",
       "63            India           441924   14028.0           Asia    3.174301\n",
       "90   United Kingdom           305289   42647.0         Europe   13.969386"
      ]
     },
     "execution_count": 253,
     "metadata": {},
     "output_type": "execute_result"
    }
   ],
   "source": [
    "dfff['Death_rate']= (dfff['Deaths']/dfff['Number of cases'])*100\n",
    "dfff.head()"
   ]
  },
  {
   "cell_type": "markdown",
   "metadata": {},
   "source": [
    "## Data Visualization"
   ]
  },
  {
   "cell_type": "code",
   "execution_count": 254,
   "metadata": {},
   "outputs": [],
   "source": [
    "import seaborn as sns\n",
    "import matplotlib.pyplot as plt"
   ]
  },
  {
   "cell_type": "code",
   "execution_count": 255,
   "metadata": {},
   "outputs": [],
   "source": [
    "from pylab import rcParams\n",
    "rcParams['figure.figsize'] = 15, 10"
   ]
  },
  {
   "cell_type": "code",
   "execution_count": 256,
   "metadata": {},
   "outputs": [
    {
     "name": "stderr",
     "output_type": "stream",
     "text": [
      "C:\\Users\\Prabhat.Pathak\\AppData\\Local\\Continuum\\anaconda3\\lib\\site-packages\\numpy\\core\\_methods.py:140: RuntimeWarning: Degrees of freedom <= 0 for slice\n",
      "  keepdims=keepdims)\n",
      "C:\\Users\\Prabhat.Pathak\\AppData\\Local\\Continuum\\anaconda3\\lib\\site-packages\\numpy\\core\\_methods.py:132: RuntimeWarning: invalid value encountered in double_scalars\n",
      "  ret = ret.dtype.type(ret / rcount)\n"
     ]
    },
    {
     "data": {
      "text/plain": [
       "<seaborn.axisgrid.PairGrid at 0x247d9afc048>"
      ]
     },
     "execution_count": 256,
     "metadata": {},
     "output_type": "execute_result"
    },
    {
     "data": {
      "text/plain": [
       "<Figure size 1600x480 with 0 Axes>"
      ]
     },
     "metadata": {},
     "output_type": "display_data"
    },
    {
     "data": {
      "image/png": "[encoded data removed]",
      "text/plain": [
       "<Figure size 664.75x540 with 12 Axes>"
      ]
     },
     "metadata": {
      "needs_background": "light"
     },
     "output_type": "display_data"
    }
   ],
   "source": [
    "from matplotlib.pyplot import figure\n",
    "figure(num=None, figsize=(20, 6), dpi=80, facecolor='w', edgecolor='k')\n",
    "sns.pairplot(dfff,hue='Continment')"
   ]
  },
  {
   "cell_type": "code",
   "execution_count": 257,
   "metadata": {},
   "outputs": [
    {
     "data": {
      "text/html": [
       "<div>\n",
       "<style scoped>\n",
       "    .dataframe tbody tr th:only-of-type {\n",
       "        vertical-align: middle;\n",
       "    }\n",
       "\n",
       "    .dataframe tbody tr th {\n",
       "        vertical-align: top;\n",
       "    }\n",
       "\n",
       "    .dataframe thead th {\n",
       "        text-align: right;\n",
       "    }\n",
       "</style>\n",
       "<table border=\"1\" class=\"dataframe\">\n",
       "  <thead>\n",
       "    <tr style=\"text-align: right;\">\n",
       "      <th></th>\n",
       "      <th>Number of cases</th>\n",
       "      <th>Deaths</th>\n",
       "      <th>Death_rate</th>\n",
       "    </tr>\n",
       "  </thead>\n",
       "  <tbody>\n",
       "    <tr>\n",
       "      <td>Number of cases</td>\n",
       "      <td>1.000000</td>\n",
       "      <td>0.931793</td>\n",
       "      <td>0.094185</td>\n",
       "    </tr>\n",
       "    <tr>\n",
       "      <td>Deaths</td>\n",
       "      <td>0.931793</td>\n",
       "      <td>1.000000</td>\n",
       "      <td>0.244252</td>\n",
       "    </tr>\n",
       "    <tr>\n",
       "      <td>Death_rate</td>\n",
       "      <td>0.094185</td>\n",
       "      <td>0.244252</td>\n",
       "      <td>1.000000</td>\n",
       "    </tr>\n",
       "  </tbody>\n",
       "</table>\n",
       "</div>"
      ],
      "text/plain": [
       "                 Number of cases    Deaths  Death_rate\n",
       "Number of cases         1.000000  0.931793    0.094185\n",
       "Deaths                  0.931793  1.000000    0.244252\n",
       "Death_rate              0.094185  0.244252    1.000000"
      ]
     },
     "execution_count": 257,
     "metadata": {},
     "output_type": "execute_result"
    }
   ],
   "source": [
    "dfff.corr()"
   ]
  },
  {
   "cell_type": "code",
   "execution_count": 258,
   "metadata": {},
   "outputs": [
    {
     "data": {
      "text/plain": [
       "Index(['country', 'Number of cases', 'Deaths', 'Continment', 'Death_rate'], dtype='object')"
      ]
     },
     "execution_count": 258,
     "metadata": {},
     "output_type": "execute_result"
    }
   ],
   "source": [
    "dfff.columns"
   ]
  },
  {
   "cell_type": "code",
   "execution_count": 259,
   "metadata": {},
   "outputs": [
    {
     "data": {
      "text/plain": [
       "<matplotlib.axes._subplots.AxesSubplot at 0x247da3f8b48>"
      ]
     },
     "execution_count": 259,
     "metadata": {},
     "output_type": "execute_result"
    },
    {
     "data": {
      "image/png": "[encoded data removed]",
      "text/plain": [
       "<Figure size 1080x720 with 1 Axes>"
      ]
     },
     "metadata": {
      "needs_background": "light"
     },
     "output_type": "display_data"
    }
   ],
   "source": [
    "sns.barplot(x='country',y='Number of cases',data=dfff.head(10))\n"
   ]
  },
  {
   "cell_type": "code",
   "execution_count": 260,
   "metadata": {},
   "outputs": [
    {
     "data": {
      "text/plain": [
       "<matplotlib.axes._subplots.AxesSubplot at 0x247da3f5bc8>"
      ]
     },
     "execution_count": 260,
     "metadata": {},
     "output_type": "execute_result"
    },
    {
     "data": {
      "image/png": "[encoded data removed]",
      "text/plain": [
       "<Figure size 1080x720 with 1 Axes>"
      ]
     },
     "metadata": {
      "needs_background": "light"
     },
     "output_type": "display_data"
    }
   ],
   "source": [
    "sns.regplot(x='Deaths',y='Number of cases',data=dfff)\n"
   ]
  },
  {
   "cell_type": "code",
   "execution_count": 261,
   "metadata": {},
   "outputs": [
    {
     "data": {
      "text/plain": [
       "<matplotlib.axes._subplots.AxesSubplot at 0x247da544748>"
      ]
     },
     "execution_count": 261,
     "metadata": {},
     "output_type": "execute_result"
    },
    {
     "data": {
      "image/png": "[encoded data removed]",
      "text/plain": [
       "<Figure size 1080x720 with 1 Axes>"
      ]
     },
     "metadata": {
      "needs_background": "light"
     },
     "output_type": "display_data"
    }
   ],
   "source": [
    "#21 .Change the minimum and maximum point size and show all sizes in legend:\n",
    "sns.scatterplot(x=\"Number of cases\", y=\"Deaths\",hue=\"Continment\",data=dfff)\n"
   ]
  },
  {
   "cell_type": "code",
   "execution_count": 262,
   "metadata": {},
   "outputs": [
    {
     "data": {
      "text/plain": [
       "<matplotlib.axes._subplots.AxesSubplot at 0x247da618a88>"
      ]
     },
     "execution_count": 262,
     "metadata": {},
     "output_type": "execute_result"
    },
    {
     "data": {
      "image/png": "[encoded data removed]",
      "text/plain": [
       "<Figure size 1080x720 with 1 Axes>"
      ]
     },
     "metadata": {
      "needs_background": "light"
     },
     "output_type": "display_data"
    }
   ],
   "source": [
    "sns.boxplot(x='country',y='Deaths',data=dfff.head(10),hue='Continment')\n"
   ]
  },
  {
   "cell_type": "code",
   "execution_count": 263,
   "metadata": {},
   "outputs": [],
   "source": [
    "dfg=dfff.groupby(by='Continment',as_index=False).agg({'Number of cases':sum,'Deaths':sum})\n",
    "dfgg=dfg[1:]"
   ]
  },
  {
   "cell_type": "code",
   "execution_count": 264,
   "metadata": {},
   "outputs": [],
   "source": [
    "df1=dfgg.sort_values(by='Number of cases',ascending=False)"
   ]
  },
  {
   "cell_type": "code",
   "execution_count": 265,
   "metadata": {},
   "outputs": [],
   "source": [
    "df1['Death_rate']=(df1['Deaths']/df1['Number of cases'])*100"
   ]
  },
  {
   "cell_type": "code",
   "execution_count": 266,
   "metadata": {},
   "outputs": [
    {
     "data": {
      "text/html": [
       "<div>\n",
       "<style scoped>\n",
       "    .dataframe tbody tr th:only-of-type {\n",
       "        vertical-align: middle;\n",
       "    }\n",
       "\n",
       "    .dataframe tbody tr th {\n",
       "        vertical-align: top;\n",
       "    }\n",
       "\n",
       "    .dataframe thead th {\n",
       "        text-align: right;\n",
       "    }\n",
       "</style>\n",
       "<table border=\"1\" class=\"dataframe\">\n",
       "  <thead>\n",
       "    <tr style=\"text-align: right;\">\n",
       "      <th></th>\n",
       "      <th>Continment</th>\n",
       "      <th>Number of cases</th>\n",
       "      <th>Deaths</th>\n",
       "      <th>Death_rate</th>\n",
       "    </tr>\n",
       "  </thead>\n",
       "  <tbody>\n",
       "    <tr>\n",
       "      <td>4</td>\n",
       "      <td>Europe</td>\n",
       "      <td>2336525</td>\n",
       "      <td>188171.0</td>\n",
       "      <td>8.053455</td>\n",
       "    </tr>\n",
       "    <tr>\n",
       "      <td>5</td>\n",
       "      <td>North America</td>\n",
       "      <td>2775029</td>\n",
       "      <td>156229.0</td>\n",
       "      <td>5.629815</td>\n",
       "    </tr>\n",
       "    <tr>\n",
       "      <td>6</td>\n",
       "      <td>South America</td>\n",
       "      <td>1817322</td>\n",
       "      <td>72629.0</td>\n",
       "      <td>3.996485</td>\n",
       "    </tr>\n",
       "    <tr>\n",
       "      <td>1</td>\n",
       "      <td>Africa</td>\n",
       "      <td>318792</td>\n",
       "      <td>8374.0</td>\n",
       "      <td>2.626791</td>\n",
       "    </tr>\n",
       "    <tr>\n",
       "      <td>2</td>\n",
       "      <td>Asia</td>\n",
       "      <td>1959358</td>\n",
       "      <td>49431.0</td>\n",
       "      <td>2.522816</td>\n",
       "    </tr>\n",
       "    <tr>\n",
       "      <td>3</td>\n",
       "      <td>Australia/Oceania</td>\n",
       "      <td>9115</td>\n",
       "      <td>124.0</td>\n",
       "      <td>1.360395</td>\n",
       "    </tr>\n",
       "  </tbody>\n",
       "</table>\n",
       "</div>"
      ],
      "text/plain": [
       "          Continment  Number of cases    Deaths  Death_rate\n",
       "4             Europe          2336525  188171.0    8.053455\n",
       "5      North America          2775029  156229.0    5.629815\n",
       "6      South America          1817322   72629.0    3.996485\n",
       "1             Africa           318792    8374.0    2.626791\n",
       "2               Asia          1959358   49431.0    2.522816\n",
       "3  Australia/Oceania             9115     124.0    1.360395"
      ]
     },
     "execution_count": 266,
     "metadata": {},
     "output_type": "execute_result"
    }
   ],
   "source": [
    "df1.sort_values(by='Death_rate',ascending=False)"
   ]
  },
  {
   "cell_type": "code",
   "execution_count": 267,
   "metadata": {},
   "outputs": [
    {
     "data": {
      "text/plain": [
       "<matplotlib.axes._subplots.AxesSubplot at 0x247da7bdb48>"
      ]
     },
     "execution_count": 267,
     "metadata": {},
     "output_type": "execute_result"
    },
    {
     "data": {
      "image/png": "[encoded data removed]",
      "text/plain": [
       "<Figure size 1080x720 with 1 Axes>"
      ]
     },
     "metadata": {
      "needs_background": "light"
     },
     "output_type": "display_data"
    }
   ],
   "source": [
    "sns.barplot(x='Continment',y='Death_rate',data=df1.sort_values(by='Death_rate',ascending=False))"
   ]
  },
  {
   "cell_type": "markdown",
   "metadata": {},
   "source": [
    "# Table"
   ]
  },
  {
   "cell_type": "code",
   "execution_count": 268,
   "metadata": {},
   "outputs": [],
   "source": [
    "import texttable as tt"
   ]
  },
  {
   "cell_type": "code",
   "execution_count": 269,
   "metadata": {},
   "outputs": [
    {
     "name": "stdout",
     "output_type": "stream",
     "text": [
      "+---------------------------+-------------------+----------+-------------------+\n",
      "|          Country          |  Number of cases  |  Deaths  |     Continent     |\n",
      "+===========================+===================+==========+===================+\n",
      "|          Cyprus           |        988        |    19    |       Asia        |\n",
      "+---------------------------+-------------------+----------+-------------------+\n",
      "|         Barbados          |        97         |    7     |   North America   |\n",
      "+---------------------------+-------------------+----------+-------------------+\n",
      "|           Yemen           |        967        |   257    |       Asia        |\n",
      "+---------------------------+-------------------+----------+-------------------+\n",
      "|        Cabo Verde         |        944        |    8     |      Africa       |\n",
      "+---------------------------+-------------------+----------+-------------------+\n",
      "|          Georgia          |        911        |    14    |       Asia        |\n",
      "+---------------------------+-------------------+----------+-------------------+\n",
      "|       Burkina Faso        |        907        |    53    |      Africa       |\n",
      "+---------------------------+-------------------+----------+-------------------+\n",
      "|        MS Zaandam         |         9         |    2     |                   |\n",
      "+---------------------------+-------------------+----------+-------------------+\n",
      "|     Papua New Guinea      |         9         |    0     | Australia/Oceania |\n",
      "+---------------------------+-------------------+----------+-------------------+\n",
      "|         Botswana          |        89         |    1     |      Africa       |\n",
      "+---------------------------+-------------------+----------+-------------------+\n",
      "|          Uruguay          |        882        |    25    |   South America   |\n",
      "+---------------------------+-------------------+----------+-------------------+\n",
      "|           Qatar           |      88,403       |    99    |       Asia        |\n",
      "+---------------------------+-------------------+----------+-------------------+\n",
      "|           Chad            |        858        |    74    |      Africa       |\n",
      "+---------------------------+-------------------+----------+-------------------+\n",
      "|          Andorra          |        855        |    52    |      Europe       |\n",
      "+---------------------------+-------------------+----------+-------------------+\n",
      "|           Benin           |        850        |    13    |      Africa       |\n",
      "+---------------------------+-------------------+----------+-------------------+\n",
      "|           China           |      83,418       |   4634   |       Asia        |\n",
      "+---------------------------+-------------------+----------+-------------------+\n",
      "|       Liechtenstein       |        83         |    1     |      Europe       |\n",
      "+---------------------------+-------------------+----------+-------------------+\n",
      "|          Malawi           |        803        |    11    |      Africa       |\n",
      "+---------------------------+-------------------+----------+-------------------+\n",
      "|          Norway           |       8,751       |   248    |      Europe       |\n",
      "+---------------------------+-------------------+----------+-------------------+\n",
      "|           Sudan           |       8,698       |   533    |      Africa       |\n",
      "+---------------------------+-------------------+----------+-------------------+\n",
      "|         Malaysia          |       8,590       |   121    |       Asia        |\n",
      "+---------------------------+-------------------+----------+-------------------+\n",
      "|  British Virgin Islands   |         8         |    1     |   North America   |\n",
      "+---------------------------+-------------------+----------+-------------------+\n",
      "|          Uganda           |        797        |    0     |      Africa       |\n",
      "+---------------------------+-------------------+----------+-------------------+\n",
      "|          Rwanda           |        787        |    2     |      Africa       |\n",
      "+---------------------------+-------------------+----------+-------------------+\n",
      "|       Sint Maarten        |        77         |    15    |   North America   |\n",
      "+---------------------------+-------------------+----------+-------------------+\n",
      "|        Mozambique         |        737        |    5     |      Africa       |\n",
      "+---------------------------+-------------------+----------+-------------------+\n",
      "|         Colombia          |      71,183       |   2310   |   South America   |\n",
      "+---------------------------+-------------------+----------+-------------------+\n",
      "|    Sao Tome & Principe    |        702        |    12    |      Africa       |\n",
      "+---------------------------+-------------------+----------+-------------------+\n",
      "|       Côte d'Ivoire       |       7,677       |    56    |      Africa       |\n",
      "+---------------------------+-------------------+----------+-------------------+\n",
      "|         Australia         |       7,492       |   102    | Australia/Oceania |\n",
      "+---------------------------+-------------------+----------+-------------------+\n",
      "|          Finland          |       7,155       |   327    |      Europe       |\n",
      "+---------------------------+-------------------+----------+-------------------+\n",
      "|   Caribbean Netherlands   |         7         |    0     |   North America   |\n",
      "+---------------------------+-------------------+----------+-------------------+\n",
      "|        San Marino         |        698        |    42    |      Europe       |\n",
      "+---------------------------+-------------------+----------+-------------------+\n",
      "|          Bhutan           |        69         |    0     |       Asia        |\n",
      "+---------------------------+-------------------+----------+-------------------+\n",
      "|          Namibia          |        67         |    0     |      Africa       |\n",
      "+---------------------------+-------------------+----------+-------------------+\n",
      "|          Jamaica          |        665        |    10    |   North America   |\n",
      "+---------------------------+-------------------+----------+-------------------+\n",
      "|           Malta           |        665        |    9     |      Europe       |\n",
      "+---------------------------+-------------------+----------+-------------------+\n",
      "|          Liberia          |        650        |    34    |      Africa       |\n",
      "+---------------------------+-------------------+----------+-------------------+\n",
      "|         Eswatini          |        643        |    6     |      Africa       |\n",
      "+---------------------------+-------------------+----------+-------------------+\n",
      "|          Belgium          |      60,810       |   9713   |      Europe       |\n",
      "+---------------------------+-------------------+----------+-------------------+\n",
      "|     French Polynesia      |        60         |    0     | Australia/Oceania |\n",
      "+---------------------------+-------------------+----------+-------------------+\n",
      "|        Uzbekistan         |       6,500       |    19    |       Asia        |\n",
      "+---------------------------+-------------------+----------+-------------------+\n",
      "|          Senegal          |       6,034       |    89    |      Africa       |\n",
      "+---------------------------+-------------------+----------+-------------------+\n",
      "|         DR Congo          |       6,027       |   135    |      Africa       |\n",
      "+---------------------------+-------------------+----------+-------------------+\n",
      "|     Saint Barthelemy      |         6         |    0     |   North America   |\n",
      "+---------------------------+-------------------+----------+-------------------+\n",
      "|          Russia           |      599,705      |   8359   |      Europe       |\n",
      "+---------------------------+-------------------+----------+-------------------+\n",
      "|           Libya           |        595        |    10    |      Africa       |\n",
      "+---------------------------+-------------------+----------+-------------------+\n",
      "|          Belarus          |      59,487       |   357    |      Europe       |\n",
      "+---------------------------+-------------------+----------+-------------------+\n",
      "|          Sweden           |      58,932       |   5122   |      Europe       |\n",
      "+---------------------------+-------------------+----------+-------------------+\n",
      "|      Channel Islands      |        570        |    47    |      Europe       |\n",
      "+---------------------------+-------------------+----------+-------------------+\n",
      "|           Togo            |        569        |    13    |      Africa       |\n",
      "+---------------------------+-------------------+----------+-------------------+\n",
      "|           Egypt           |      56,809       |   2278   |      Africa       |\n",
      "+---------------------------+-------------------+----------+-------------------+\n",
      "|         Zimbabwe          |        512        |    6     |      Africa       |\n",
      "+---------------------------+-------------------+----------+-------------------+\n",
      "|         Tanzania          |        509        |    21    |      Africa       |\n",
      "+---------------------------+-------------------+----------+-------------------+\n",
      "|          Réunion          |        507        |    1     |      Africa       |\n",
      "+---------------------------+-------------------+----------+-------------------+\n",
      "|          Ecuador          |      50,640       |   4223   |   South America   |\n",
      "+---------------------------+-------------------+----------+-------------------+\n",
      "|        Tajikistan         |       5,513       |    52    |       Asia        |\n",
      "+---------------------------+-------------------+----------+-------------------+\n",
      "|           Haiti           |       5,211       |    88    |   North America   |\n",
      "+---------------------------+-------------------+----------+-------------------+\n",
      "|      North Macedonia      |       5,196       |   247    |      Europe       |\n",
      "+---------------------------+-------------------+----------+-------------------+\n",
      "|        Netherlands        |      49,658       |   6090   |      Europe       |\n",
      "+---------------------------+-------------------+----------+-------------------+\n",
      "|         Indonesia         |      47,896       |   2535   |       Asia        |\n",
      "+---------------------------+-------------------+----------+-------------------+\n",
      "|   United Arab Emirates    |      45,303       |   303    |       Asia        |\n",
      "+---------------------------+-------------------+----------+-------------------+\n",
      "|           Macao           |        45         |    0     |       Asia        |\n",
      "+---------------------------+-------------------+----------+-------------------+\n",
      "|          Taiwan           |        446        |    7     |       Asia        |\n",
      "+---------------------------+-------------------+----------+-------------------+\n",
      "|           India           |      441,924      |  14028   |       Asia        |\n",
      "+---------------------------+-------------------+----------+-------------------+\n",
      "|         Argentina         |      44,931       |   1043   |   South America   |\n",
      "+---------------------------+-------------------+----------+-------------------+\n",
      "|         Singapore         |      42,432       |    26    |       Asia        |\n",
      "+---------------------------+-------------------+----------+-------------------+\n",
      "|       Saint Martin        |        42         |    3     |   North America   |\n",
      "+---------------------------+-------------------+----------+-------------------+\n",
      "|          Kuwait           |      41,033       |   334    |       Asia        |\n",
      "+---------------------------+-------------------+----------+-------------------+\n",
      "|          Gambia           |        41         |    2     |      Africa       |\n",
      "+---------------------------+-------------------+----------+-------------------+\n",
      "|          Guinea           |       4,988       |    27    |      Africa       |\n",
      "+---------------------------+-------------------+----------+-------------------+\n",
      "|        El Salvador        |       4,973       |   113    |   North America   |\n",
      "+---------------------------+-------------------+----------+-------------------+\n",
      "|           Kenya           |       4,797       |   125    |      Africa       |\n",
      "+---------------------------+-------------------+----------+-------------------+\n",
      "|           Gabon           |       4,739       |    39    |      Africa       |\n",
      "+---------------------------+-------------------+----------+-------------------+\n",
      "|         Ethiopia          |       4,663       |    75    |      Africa       |\n",
      "+---------------------------+-------------------+----------+-------------------+\n",
      "|         Djibouti          |       4,599       |    48    |      Africa       |\n",
      "+---------------------------+-------------------+----------+-------------------+\n",
      "|        Luxembourg         |       4,121       |   110    |      Europe       |\n",
      "+---------------------------+-------------------+----------+-------------------+\n",
      "|          Hungary          |       4,107       |   573    |      Europe       |\n",
      "+---------------------------+-------------------+----------+-------------------+\n",
      "|         Venezuela         |       4,048       |    35    |   South America   |\n",
      "+---------------------------+-------------------+----------+-------------------+\n",
      "|         Portugal          |      39,392       |   1534   |      Europe       |\n",
      "+---------------------------+-------------------+----------+-------------------+\n",
      "|          Ukraine          |      38,074       |   1035   |      Europe       |\n",
      "+---------------------------+-------------------+----------+-------------------+\n",
      "|        Montenegro         |        375        |    9     |      Europe       |\n",
      "+---------------------------+-------------------+----------+-------------------+\n",
      "|          Vietnam          |        349        |    0     |       Asia        |\n",
      "+---------------------------+-------------------+----------+-------------------+\n",
      "|         Mauritius         |        340        |    10    |      Africa       |\n",
      "+---------------------------+-------------------+----------+-------------------+\n",
      "|        Isle of Man        |        336        |    24    |      Europe       |\n",
      "+---------------------------+-------------------+----------+-------------------+\n",
      "|           Iraq            |      32,676       |   1167   |       Asia        |\n",
      "+---------------------------+-------------------+----------+-------------------+\n",
      "|          Poland           |      32,527       |   1375   |      Europe       |\n",
      "+---------------------------+-------------------+----------+-------------------+\n",
      "|           Oman            |      32,394       |   140    |       Asia        |\n",
      "+---------------------------+-------------------+----------+-------------------+\n",
      "|         Suriname          |        319        |    8     |   South America   |\n",
      "+---------------------------+-------------------+----------+-------------------+\n",
      "|        Philippines        |      31,825       |   1186   |       Asia        |\n",
      "+---------------------------+-------------------+----------+-------------------+\n",
      "|        Switzerland        |      31,332       |   1956   |      Europe       |\n",
      "+---------------------------+-------------------+----------+-------------------+\n",
      "|      United Kingdom       |      305,289      |  42647   |      Europe       |\n",
      "+---------------------------+-------------------+----------+-------------------+\n",
      "|         Bulgaria          |       3,984       |   207    |      Europe       |\n",
      "+---------------------------+-------------------+----------+-------------------+\n",
      "|  Bosnia and Herzegovina   |       3,525       |   171    |      Europe       |\n",
      "+---------------------------+-------------------+----------+-------------------+\n",
      "|        Kyrgyzstan         |       3,519       |    41    |       Asia        |\n",
      "+---------------------------+-------------------+----------+-------------------+\n",
      "|          Greece           |       3,287       |   190    |      Europe       |\n",
      "+---------------------------+-------------------+----------+-------------------+\n",
      "|         Thailand          |       3,156       |    58    |       Asia        |\n",
      "+---------------------------+-------------------+----------+-------------------+\n",
      "|        Mauritania         |       3,121       |   112    |      Africa       |\n",
      "+---------------------------+-------------------+----------+-------------------+\n",
      "|         Anguilla          |         3         |    0     |   North America   |\n",
      "+---------------------------+-------------------+----------+-------------------+\n",
      "|           Spain           |      293,584      |  28324   |      Europe       |\n",
      "+---------------------------+-------------------+----------+-------------------+\n",
      "|          Myanmar          |        291        |    6     |       Asia        |\n",
      "+---------------------------+-------------------+----------+-------------------+\n",
      "|        Afghanistan        |      29,481       |   618    |       Asia        |\n",
      "+---------------------------+-------------------+----------+-------------------+\n",
      "| St. Vincent & Grenadines  |        29         |    0     |   North America   |\n",
      "+---------------------------+-------------------+----------+-------------------+\n",
      "|    Dominican Republic     |      27,370       |   669    |   North America   |\n",
      "+---------------------------+-------------------+----------+-------------------+\n",
      "|          Panama           |      26,752       |   521    |   North America   |\n",
      "+---------------------------+-------------------+----------+-------------------+\n",
      "|    Antigua and Barbuda    |        26         |    3     |   North America   |\n",
      "+---------------------------+-------------------+----------+-------------------+\n",
      "|           Peru            |      257,447      |   8223   |   South America   |\n",
      "+---------------------------+-------------------+----------+-------------------+\n",
      "|          Bolivia          |      25,493       |   820    |   South America   |\n",
      "+---------------------------+-------------------+----------+-------------------+\n",
      "|          Ireland          |      25,383       |   1717   |      Europe       |\n",
      "+---------------------------+-------------------+----------+-------------------+\n",
      "|          Comoros          |        247        |    5     |      Africa       |\n",
      "+---------------------------+-------------------+----------+-------------------+\n",
      "|           Chile           |      246,963      |   4502   |   South America   |\n",
      "+---------------------------+-------------------+----------+-------------------+\n",
      "|          Romania          |      24,505       |   1539   |      Europe       |\n",
      "+---------------------------+-------------------+----------+-------------------+\n",
      "|        Timor-Leste        |        24         |    0     |       Asia        |\n",
      "+---------------------------+-------------------+----------+-------------------+\n",
      "|           Italy           |      238,720      |  34657   |      Europe       |\n",
      "+---------------------------+-------------------+----------+-------------------+\n",
      "|        Martinique         |        236        |    14    |   North America   |\n",
      "+---------------------------+-------------------+----------+-------------------+\n",
      "|          Belize           |        23         |    2     |   North America   |\n",
      "+---------------------------+-------------------+----------+-------------------+\n",
      "|          Curaçao          |        23         |    1     |   North America   |\n",
      "+---------------------------+-------------------+----------+-------------------+\n",
      "|          Grenada          |        23         |    0     |   North America   |\n",
      "+---------------------------+-------------------+----------+-------------------+\n",
      "|          Bahrain          |      22,407       |    66    |       Asia        |\n",
      "+---------------------------+-------------------+----------+-------------------+\n",
      "|           Syria           |        219        |    7     |       Asia        |\n",
      "+---------------------------+-------------------+----------+-------------------+\n",
      "|         Mongolia          |        215        |    0     |       Asia        |\n",
      "+---------------------------+-------------------+----------+-------------------+\n",
      "|          Israel           |      21,246       |   307    |       Asia        |\n",
      "+---------------------------+-------------------+----------+-------------------+\n",
      "|          Armenia          |      21,006       |   372    |       Asia        |\n",
      "+---------------------------+-------------------+----------+-------------------+\n",
      "|       New Caledonia       |        21         |    0     | Australia/Oceania |\n",
      "+---------------------------+-------------------+----------+-------------------+\n",
      "|           Iran            |      209,970      |   9863   |       Asia        |\n",
      "+---------------------------+-------------------+----------+-------------------+\n",
      "|          Guyana           |        205        |    12    |   South America   |\n",
      "+---------------------------+-------------------+----------+-------------------+\n",
      "|          Nigeria          |      20,919       |   525    |      Africa       |\n",
      "+---------------------------+-------------------+----------+-------------------+\n",
      "| Central African Republic  |       2,963       |    30    |      Africa       |\n",
      "+---------------------------+-------------------+----------+-------------------+\n",
      "|          Somalia          |       2,812       |    90    |      Africa       |\n",
      "+---------------------------+-------------------+----------+-------------------+\n",
      "|       French Guiana       |       2,458       |    8     |   South America   |\n",
      "+---------------------------+-------------------+----------+-------------------+\n",
      "|          Mayotte          |       2,434       |    31    |      Africa       |\n",
      "+---------------------------+-------------------+----------+-------------------+\n",
      "|       United States       |     2,388,225     |  122611  |   North America   |\n",
      "+---------------------------+-------------------+----------+-------------------+\n",
      "|          Croatia          |       2,336       |   107    |      Europe       |\n",
      "+---------------------------+-------------------+----------+-------------------+\n",
      "|           Cuba            |       2,315       |    85    |   North America   |\n",
      "+---------------------------+-------------------+----------+-------------------+\n",
      "|        Costa Rica         |       2,277       |    12    |   North America   |\n",
      "+---------------------------+-------------------+----------+-------------------+\n",
      "|         Maldives          |       2,217       |    8     |       Asia        |\n",
      "+---------------------------+-------------------+----------+-------------------+\n",
      "|          Albania          |       2,047       |    45    |      Europe       |\n",
      "+---------------------------+-------------------+----------+-------------------+\n",
      "|      Cayman Islands       |        195        |    1     |   North America   |\n",
      "+---------------------------+-------------------+----------+-------------------+\n",
      "|          Germany          |      192,119      |   8969   |      Europe       |\n",
      "+---------------------------+-------------------+----------+-------------------+\n",
      "|           Laos            |        19         |    0     |       Asia        |\n",
      "+---------------------------+-------------------+----------+-------------------+\n",
      "|        Saint Lucia        |        19         |    0     |   North America   |\n",
      "+---------------------------+-------------------+----------+-------------------+\n",
      "|          Turkey           |      188,897      |   4974   |       Asia        |\n",
      "+---------------------------+-------------------+----------+-------------------+\n",
      "|      Faeroe Islands       |        187        |    0     |      Europe       |\n",
      "+---------------------------+-------------------+----------+-------------------+\n",
      "|          Angola           |        186        |    10    |      Africa       |\n",
      "+---------------------------+-------------------+----------+-------------------+\n",
      "|          Mexico           |      185,122      |  22584   |   North America   |\n",
      "+---------------------------+-------------------+----------+-------------------+\n",
      "|         Pakistan          |      185,034      |   3695   |       Asia        |\n",
      "+---------------------------+-------------------+----------+-------------------+\n",
      "| Japan (+Diamond Princess) |      18,628       |   966    |       Asia        |\n",
      "+---------------------------+-------------------+----------+-------------------+\n",
      "|        Kazakhstan         |      18,231       |   127    |       Asia        |\n",
      "+---------------------------+-------------------+----------+-------------------+\n",
      "|           Fiji            |        18         |    0     | Australia/Oceania |\n",
      "+---------------------------+-------------------+----------+-------------------+\n",
      "|         Dominica          |        18         |    0     |   North America   |\n",
      "+---------------------------+-------------------+----------+-------------------+\n",
      "|         Gibraltar         |        176        |    0     |      Europe       |\n",
      "+---------------------------+-------------------+----------+-------------------+\n",
      "|        Guadeloupe         |        174        |    14    |   North America   |\n",
      "+---------------------------+-------------------+----------+-------------------+\n",
      "|          Austria          |      17,408       |   693    |      Europe       |\n",
      "+---------------------------+-------------------+----------+-------------------+\n",
      "|       Saudi Arabia        |      161,005      |   1307   |       Asia        |\n",
      "+---------------------------+-------------------+----------+-------------------+\n",
      "|          France           |      160,750      |  29663   |      Europe       |\n",
      "+---------------------------+-------------------+----------+-------------------+\n",
      "|    Saint Kitts & Nevis    |        15         |    0     |   North America   |\n",
      "+---------------------------+-------------------+----------+-------------------+\n",
      "|          Bermuda          |        146        |    9     |   North America   |\n",
      "+---------------------------+-------------------+----------+-------------------+\n",
      "|          Burundi          |        144        |    1     |      Africa       |\n",
      "+---------------------------+-------------------+----------+-------------------+\n",
      "|          Eritrea          |        143        |    0     |      Africa       |\n",
      "+---------------------------+-------------------+----------+-------------------+\n",
      "|          Brunei           |        141        |    3     |       Asia        |\n",
      "+---------------------------+-------------------+----------+-------------------+\n",
      "|          Moldova          |      14,363       |   484    |      Europe       |\n",
      "+---------------------------+-------------------+----------+-------------------+\n",
      "|           Ghana           |      14,154       |    85    |      Africa       |\n",
      "+---------------------------+-------------------+----------+-------------------+\n",
      "|     Turks and Caicos      |        14         |    1     |   North America   |\n",
      "+---------------------------+-------------------+----------+-------------------+\n",
      "|         Cambodia          |        130        |    0     |       Asia        |\n",
      "+---------------------------+-------------------+----------+-------------------+\n",
      "|         Guatemala         |      13,769       |   547    |   North America   |\n",
      "+---------------------------+-------------------+----------+-------------------+\n",
      "|         Honduras          |      13,356       |   395    |   North America   |\n",
      "+---------------------------+-------------------+----------+-------------------+\n",
      "|        Azerbaijan         |      13,207       |   161    |       Asia        |\n",
      "+---------------------------+-------------------+----------+-------------------+\n",
      "|         Greenland         |        13         |    0     |   North America   |\n",
      "+---------------------------+-------------------+----------+-------------------+\n",
      "|     Falkland Islands      |        13         |    0     |   South America   |\n",
      "+---------------------------+-------------------+----------+-------------------+\n",
      "|    Trinidad and Tobago    |        123        |    8     |   North America   |\n",
      "+---------------------------+-------------------+----------+-------------------+\n",
      "|          Serbia           |      12,990       |   262    |      Europe       |\n",
      "+---------------------------+-------------------+----------+-------------------+\n",
      "|          Denmark          |      12,527       |   602    |      Europe       |\n",
      "+---------------------------+-------------------+----------+-------------------+\n",
      "|        South Korea        |      12,484       |   281    |       Asia        |\n",
      "+---------------------------+-------------------+----------+-------------------+\n",
      "|         Cameroon          |      12,041       |   308    |      Africa       |\n",
      "+---------------------------+-------------------+----------+-------------------+\n",
      "|         Holy See          |        12         |    0     |      Europe       |\n",
      "+---------------------------+-------------------+----------+-------------------+\n",
      "|          Lesotho          |        12         |    0     |      Africa       |\n",
      "+---------------------------+-------------------+----------+-------------------+\n",
      "|        Bangladesh         |      119,198      |   1545   |       Asia        |\n",
      "+---------------------------+-------------------+----------+-------------------+\n",
      "|          Algeria          |      11,920       |   852    |      Africa       |\n",
      "+---------------------------+-------------------+----------+-------------------+\n",
      "|        Montserrat         |        11         |    1     |   North America   |\n",
      "+---------------------------+-------------------+----------+-------------------+\n",
      "|        Seychelles         |        11         |    0     |      Africa       |\n",
      "+---------------------------+-------------------+----------+-------------------+\n",
      "|          Bahamas          |        104        |    11    |   North America   |\n",
      "+---------------------------+-------------------+----------+-------------------+\n",
      "|          Canada           |      101,637      |   8436   |   North America   |\n",
      "+---------------------------+-------------------+----------+-------------------+\n",
      "|       South Africa        |      101,590      |   1991   |      Africa       |\n",
      "+---------------------------+-------------------+----------+-------------------+\n",
      "|          Monaco           |        101        |    4     |      Europe       |\n",
      "+---------------------------+-------------------+----------+-------------------+\n",
      "|           Aruba           |        101        |    3     |   North America   |\n",
      "+---------------------------+-------------------+----------+-------------------+\n",
      "| Czech Republic (Czechia)  |      10,561       |   337    |      Europe       |\n",
      "+---------------------------+-------------------+----------+-------------------+\n",
      "|          Morocco          |      10,264       |   214    |      Africa       |\n",
      "+---------------------------+-------------------+----------+-------------------+\n",
      "|           Nepal           |      10,099       |    24    |       Asia        |\n",
      "+---------------------------+-------------------+----------+-------------------+\n",
      "|      Western Sahara       |        10         |    1     |      Africa       |\n",
      "+---------------------------+-------------------+----------+-------------------+\n",
      "|          Estonia          |       1,982       |    69    |      Europe       |\n",
      "+---------------------------+-------------------+----------+-------------------+\n",
      "|           Mali            |       1,961       |   111    |      Africa       |\n",
      "+---------------------------+-------------------+----------+-------------------+\n",
      "|         Sri Lanka         |       1,951       |    11    |       Asia        |\n",
      "+---------------------------+-------------------+----------+-------------------+\n",
      "|        South Sudan        |       1,916       |    35    |      Africa       |\n",
      "+---------------------------+-------------------+----------+-------------------+\n",
      "|         Nicaragua         |       1,823       |    64    |   North America   |\n",
      "+---------------------------+-------------------+----------+-------------------+\n",
      "|          Iceland          |       1,823       |    10    |      Europe       |\n",
      "+---------------------------+-------------------+----------+-------------------+\n",
      "|         Lithuania         |       1,803       |    77    |      Europe       |\n",
      "+---------------------------+-------------------+----------+-------------------+\n",
      "|        Madagascar         |       1,724       |    15    |      Africa       |\n",
      "+---------------------------+-------------------+----------+-------------------+\n",
      "|     Equatorial Guinea     |       1,664       |    32    |      Africa       |\n",
      "+---------------------------+-------------------+----------+-------------------+\n",
      "|          Lebanon          |       1,603       |    32    |       Asia        |\n",
      "+---------------------------+-------------------+----------+-------------------+\n",
      "|         Slovakia          |       1,589       |    28    |      Europe       |\n",
      "+---------------------------+-------------------+----------+-------------------+\n",
      "|       Guinea-Bissau       |       1,556       |    19    |      Africa       |\n",
      "+---------------------------+-------------------+----------+-------------------+\n",
      "|         Slovenia          |       1,534       |   109    |      Europe       |\n",
      "+---------------------------+-------------------+----------+-------------------+\n",
      "|        New Zealand        |       1,515       |    22    | Australia/Oceania |\n",
      "+---------------------------+-------------------+----------+-------------------+\n",
      "|          Zambia           |       1,430       |    11    |      Africa       |\n",
      "+---------------------------+-------------------+----------+-------------------+\n",
      "|         Paraguay          |       1,392       |    13    |   South America   |\n",
      "+---------------------------+-------------------+----------+-------------------+\n",
      "|       Sierra Leone        |       1,340       |    55    |      Africa       |\n",
      "+---------------------------+-------------------+----------+-------------------+\n",
      "|         Hong Kong         |       1,178       |    6     |       Asia        |\n",
      "+---------------------------+-------------------+----------+-------------------+\n",
      "|          Tunisia          |       1,159       |    50    |      Africa       |\n",
      "+---------------------------+-------------------+----------+-------------------+\n",
      "|          Brazil           |     1,111,348     |  51407   |   South America   |\n",
      "+---------------------------+-------------------+----------+-------------------+\n",
      "|          Latvia           |       1,111       |    30    |      Europe       |\n",
      "+---------------------------+-------------------+----------+-------------------+\n",
      "|           Congo           |       1,087       |    37    |      Africa       |\n",
      "+---------------------------+-------------------+----------+-------------------+\n",
      "|    State of Palestine     |       1,078       |    3     |       Asia        |\n",
      "+---------------------------+-------------------+----------+-------------------+\n",
      "|           Niger           |       1,046       |    67    |      Africa       |\n",
      "+---------------------------+-------------------+----------+-------------------+\n",
      "|          Jordan           |       1,042       |    9     |       Asia        |\n",
      "+---------------------------+-------------------+----------+-------------------+\n",
      "|  Saint Pierre & Miquelon  |         1         |    0     |   North America   |\n",
      "+---------------------------+-------------------+----------+-------------------+\n"
     ]
    }
   ],
   "source": [
    "# create texttable object \n",
    "\n",
    "table = tt.Texttable() \n",
    "table.add_rows([(None, None, None, None)] + data)  # Add an empty row at the beginning for the headers \n",
    "table.set_cols_align(('c', 'c', 'c', 'c'))  # 'l' denotes left, 'c' denotes center, and 'r' denotes right \n",
    "table.header((' Country ', ' Number of cases ', ' Deaths ', ' Continent ')) \n",
    "  \n",
    "print(table.draw()) "
   ]
  },
  {
   "cell_type": "code",
   "execution_count": null,
   "metadata": {},
   "outputs": [],
   "source": []
  },
  {
   "cell_type": "code",
   "execution_count": null,
   "metadata": {},
   "outputs": [],
   "source": []
  }
 ],
 "metadata": {
  "kernelspec": {
   "display_name": "Python 3",
   "language": "python",
   "name": "python3"
  },
  "language_info": {
   "codemirror_mode": {
    "name": "ipython",
    "version": 3
   },
   "file_extension": ".py",
   "mimetype": "text/x-python",
   "name": "python",
   "nbconvert_exporter": "python",
   "pygments_lexer": "ipython3",
   "version": "3.7.4"
  }
 },
 "nbformat": 4,
 "nbformat_minor": 2
}
